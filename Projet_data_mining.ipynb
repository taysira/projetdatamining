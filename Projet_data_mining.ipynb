{
  "nbformat": 4,
  "nbformat_minor": 0,
  "metadata": {
    "colab": {
      "name": "Projet_data_mining.ipynb",
      "provenance": []
    },
    "kernelspec": {
      "name": "python3",
      "display_name": "Python 3"
    }
  },
  "cells": [
    {
      "cell_type": "markdown",
      "metadata": {
        "id": "J1KWAC1LpY5A"
      },
      "source": [
        "<h6> 2020/2021 </h6>\r\n",
        "<div align=\"left\"><center><img src = \"data:image/png;base64,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\" title =\"logo\" alt = \"logo\" width=\"200\"></div>\r\n",
        "<center>\r\n",
        "<h1>  <center><font color=black>Fouille de Données</font></center> </h1>\r\n",
        "<h1>  <center><font color=black>Classification des Tweets </font> </center> </h1>\r\n",
        "<h2> <center><font color=black>Réalisé par Abouda Taysir</font> </center> </h2>\r\n",
        "<h2> <center><font color=black>3DNI2</font> </center> </h2>\r\n",
        " "
      ]
    },
    {
      "cell_type": "markdown",
      "metadata": {
        "id": "8rtWvJvkpmsQ"
      },
      "source": [
        "<b>Il s'agit d'un projet d'exploration de données Twitter pour avoir rapidement une idée globale des tweets sur un sujet d'actualité. Une analyse sentimentale des tweets est effectuée et les résultats sont représentés sous former de groupes de sorte à ce qu’on présente à l’utilisateur un seul Tweet de chaque groupe.\r\n",
        "voici les différents etapes pour exécuter le code:  <br>\r\n",
        "1 . Extraction de l'API Twitter.<br>\r\n",
        "2 . Appliquer les principes de nettoyage des données.<br>\r\n",
        "3 . regrouper ensemble les tweets qui sont similaires."
      ]
    },
    {
      "cell_type": "code",
      "metadata": {
        "id": "FYwfeqwRJkeD",
        "colab": {
          "base_uri": "https://localhost:8080/"
        },
        "outputId": "01ef87a8-593f-4fc7-dad4-58e49965616d"
      },
      "source": [
        "#importations\r\n",
        "import tweepy\r\n",
        "from tweepy import API\r\n",
        "from tweepy import OAuthHandler\r\n",
        "import pandas as pd\r\n",
        "import matplotlib.pyplot as plt\r\n",
        "import csv\r\n",
        "from nltk.tokenize import RegexpTokenizer, WhitespaceTokenizer\r\n",
        "from nltk.stem import WordNetLemmatizer\r\n",
        "import nltk\r\n",
        "nltk.download('stopwords')\r\n",
        "nltk.download('wordnet')\r\n",
        "from nltk.corpus import stopwords\r\n",
        "import string\r\n",
        "from string import punctuation\r\n",
        "import en_core_web_sm\r\n",
        "from sklearn.feature_extraction.text import TfidfVectorizer"
      ],
      "execution_count": 14,
      "outputs": [
        {
          "output_type": "stream",
          "text": [
            "[nltk_data] Downloading package stopwords to /root/nltk_data...\n",
            "[nltk_data]   Package stopwords is already up-to-date!\n",
            "[nltk_data] Downloading package wordnet to /root/nltk_data...\n",
            "[nltk_data]   Package wordnet is already up-to-date!\n"
          ],
          "name": "stdout"
        }
      ]
    },
    {
      "cell_type": "code",
      "metadata": {
        "id": "4bCiMhdkKFtz"
      },
      "source": [
        "#definition des clés\r\n",
        "CONSUMER_KEY    = 'qnJJSNYVtX2Pugby2dJlopEax'\r\n",
        "CONSUMER_SECRET = 'I2h09UnMxNEne5VYQD72Xs6tOrUY3yTtrODgFdo6nnYuK9eBfM'\r\n",
        "ACCESS_TOKEN  = '1333914564946223104-B81eZinN9rd52GA2uxtFQ4u9Kf4iAI'\r\n",
        "ACCESS_SECRET = '3q69HWI8BsfQCJyLlM0sqBZTpr8iQHerydBQyS4yhKDbS'\r\n",
        "\r\n",
        "#authentication\r\n",
        "auth = OAuthHandler(CONSUMER_KEY, CONSUMER_SECRET)\r\n",
        "auth.set_access_token(ACCESS_TOKEN, ACCESS_SECRET)\r\n",
        "#Configuration l'API importer de tweet\r\n",
        "api = tweepy.API(auth,wait_on_rate_limit=True)"
      ],
      "execution_count": 15,
      "outputs": []
    },
    {
      "cell_type": "code",
      "metadata": {
        "id": "NxyxYyNsL6nF"
      },
      "source": [
        "#stocker les tweets dans un fichier1 CSV\r\n",
        "fichier1 ='tweets'+'.csv'\r\n",
        "with open (fichier1, 'w', newline='',encoding=\"utf-8\") as File:\r\n",
        "    FileTab = csv.writer(File)\r\n",
        "    FileTab.writerow(['Id','Tweet','Nom'])\r\n",
        "    for tweet in tweepy.Cursor(api.search, q='Politics', lang = 'en').items(3000):\r\n",
        "        tweets_encoded = tweet.text.encode('utf-8')\r\n",
        "        tweets_decoded = tweets_encoded.decode('utf-8')\r\n",
        "        FileTab.writerow([tweet.id,tweets_decoded,tweet.user.name])\r\n",
        "    for tweet in tweepy.Cursor(api.search, q='culture', lang = 'en').items(3500):\r\n",
        "        tweets_encoded = tweet.text.encode('utf-8')\r\n",
        "        tweets_decoded = tweets_encoded.decode('utf-8')\r\n",
        "        FileTab.writerow([tweet.id,tweets_decoded,tweet.user.name])\r\n",
        "    for tweet in tweepy.Cursor(api.search, q='sport', lang = 'en').items(3500):\r\n",
        "        tweets_encoded = tweet.text.encode('utf-8')\r\n",
        "        tweets_decoded = tweets_encoded.decode('utf-8')\r\n",
        "        FileTab.writerow([tweet.id,tweets_decoded,tweet.user.name])"
      ],
      "execution_count": 16,
      "outputs": []
    },
    {
      "cell_type": "code",
      "metadata": {
        "id": "gBusdIODLa70"
      },
      "source": [
        "fichierTweet = pd.read_csv('tweets.csv')"
      ],
      "execution_count": 17,
      "outputs": []
    },
    {
      "cell_type": "code",
      "metadata": {
        "id": "AUaJ8W6DLz87",
        "colab": {
          "base_uri": "https://localhost:8080/",
          "height": 419
        },
        "outputId": "69e78094-a50c-4a5d-ef67-dd9dfdb9a3a6"
      },
      "source": [
        "fichierTweet.head(10000)"
      ],
      "execution_count": 18,
      "outputs": [
        {
          "output_type": "execute_result",
          "data": {
            "text/html": [
              "<div>\n",
              "<style scoped>\n",
              "    .dataframe tbody tr th:only-of-type {\n",
              "        vertical-align: middle;\n",
              "    }\n",
              "\n",
              "    .dataframe tbody tr th {\n",
              "        vertical-align: top;\n",
              "    }\n",
              "\n",
              "    .dataframe thead th {\n",
              "        text-align: right;\n",
              "    }\n",
              "</style>\n",
              "<table border=\"1\" class=\"dataframe\">\n",
              "  <thead>\n",
              "    <tr style=\"text-align: right;\">\n",
              "      <th></th>\n",
              "      <th>Id</th>\n",
              "      <th>Tweet</th>\n",
              "      <th>Nom</th>\n",
              "    </tr>\n",
              "  </thead>\n",
              "  <tbody>\n",
              "    <tr>\n",
              "      <th>0</th>\n",
              "      <td>1338849709876793344</td>\n",
              "      <td>RT @SPIRALlZE: unironically love when people j...</td>\n",
              "      <td>Basic Pack</td>\n",
              "    </tr>\n",
              "    <tr>\n",
              "      <th>1</th>\n",
              "      <td>1338849709721587712</td>\n",
              "      <td>RT @mrsubbbb: @Stfu_Anajai Two words for these...</td>\n",
              "      <td>☦︎ MERRY KACZYNSKIST🌲</td>\n",
              "    </tr>\n",
              "    <tr>\n",
              "      <th>2</th>\n",
              "      <td>1338849709188734976</td>\n",
              "      <td>RT @Shehzad_Ind: So AAP in Delhi notified the ...</td>\n",
              "      <td>Sagar</td>\n",
              "    </tr>\n",
              "    <tr>\n",
              "      <th>3</th>\n",
              "      <td>1338849708614283267</td>\n",
              "      <td>@Toddipedia @7Veritas4 @charliekirk11 And the ...</td>\n",
              "      <td>AbilityBlind</td>\n",
              "    </tr>\n",
              "    <tr>\n",
              "      <th>4</th>\n",
              "      <td>1338849705661325312</td>\n",
              "      <td>@AP_Politics @AP Cucks</td>\n",
              "      <td>Tom 🇺🇸</td>\n",
              "    </tr>\n",
              "    <tr>\n",
              "      <th>...</th>\n",
              "      <td>...</td>\n",
              "      <td>...</td>\n",
              "      <td>...</td>\n",
              "    </tr>\n",
              "    <tr>\n",
              "      <th>9995</th>\n",
              "      <td>1338837023415619586</td>\n",
              "      <td>RT @SkatingSchoolCH: Congratulations @Stephane...</td>\n",
              "      <td>🍍超mi🍍🥞🍯🐝</td>\n",
              "    </tr>\n",
              "    <tr>\n",
              "      <th>9996</th>\n",
              "      <td>1338837009876594688</td>\n",
              "      <td>@redsteeze I dunno. Didn’t one bad guy get som...</td>\n",
              "      <td>kw</td>\n",
              "    </tr>\n",
              "    <tr>\n",
              "      <th>9997</th>\n",
              "      <td>1338837003031482369</td>\n",
              "      <td>@Yep22589844 @Chairman951 @markgoldbridge You ...</td>\n",
              "      <td>John Coughlan</td>\n",
              "    </tr>\n",
              "    <tr>\n",
              "      <th>9998</th>\n",
              "      <td>1338836997763444738</td>\n",
              "      <td>Did you know that synchronized couch head turn...</td>\n",
              "      <td>Shannon Minter</td>\n",
              "    </tr>\n",
              "    <tr>\n",
              "      <th>9999</th>\n",
              "      <td>1338836991517970433</td>\n",
              "      <td>Countdown | 200 days to go until British &amp;amp;...</td>\n",
              "      <td>SA Breaking News</td>\n",
              "    </tr>\n",
              "  </tbody>\n",
              "</table>\n",
              "<p>10000 rows × 3 columns</p>\n",
              "</div>"
            ],
            "text/plain": [
              "                       Id  ...                    Nom\n",
              "0     1338849709876793344  ...             Basic Pack\n",
              "1     1338849709721587712  ...  ☦︎ MERRY KACZYNSKIST🌲\n",
              "2     1338849709188734976  ...                  Sagar\n",
              "3     1338849708614283267  ...           AbilityBlind\n",
              "4     1338849705661325312  ...                 Tom 🇺🇸\n",
              "...                   ...  ...                    ...\n",
              "9995  1338837023415619586  ...               🍍超mi🍍🥞🍯🐝\n",
              "9996  1338837009876594688  ...                     kw\n",
              "9997  1338837003031482369  ...          John Coughlan\n",
              "9998  1338836997763444738  ...         Shannon Minter\n",
              "9999  1338836991517970433  ...       SA Breaking News\n",
              "\n",
              "[10000 rows x 3 columns]"
            ]
          },
          "metadata": {
            "tags": []
          },
          "execution_count": 18
        }
      ]
    },
    {
      "cell_type": "code",
      "metadata": {
        "id": "ICNp-G4LL5LI",
        "colab": {
          "base_uri": "https://localhost:8080/"
        },
        "outputId": "89f0d955-945f-4e8a-990d-4ecda4057f41"
      },
      "source": [
        "fichierTweet.shape"
      ],
      "execution_count": 19,
      "outputs": [
        {
          "output_type": "execute_result",
          "data": {
            "text/plain": [
              "(10000, 3)"
            ]
          },
          "metadata": {
            "tags": []
          },
          "execution_count": 19
        }
      ]
    },
    {
      "cell_type": "code",
      "metadata": {
        "id": "2aHkeQYk68WL"
      },
      "source": [
        "## nettoyage des Tweets"
      ],
      "execution_count": 21,
      "outputs": []
    },
    {
      "cell_type": "code",
      "metadata": {
        "colab": {
          "base_uri": "https://localhost:8080/",
          "height": 669
        },
        "id": "YEpmp1Wz7SLO",
        "outputId": "18fb8266-d6d7-4fe8-d77f-8c4d743a2f4e"
      },
      "source": [
        "import re\r\n",
        "def clean_text(df,nom , tweet):\r\n",
        "    df[tweet] = df[tweet].str.lower()\r\n",
        "    df[tweet] = df[tweet].apply(lambda x: re.sub(r\"(@[A-Za-z0-9]+)|([^0-9A-Za-z \\t])|(\\w+:\\/\\/\\S+)|\"\"|^rt|http.+?|([0-9])\", \"\", x))\r\n",
        "\r\n",
        "    \r\n",
        "    df[nom] = df[nom].str.lower()\r\n",
        "    df[nom] = df[nom].apply(lambda x: re.sub(r\"(@[A-Za-z0-9]+)|([^0-9A-Za-z \\t])|(\\w+:\\/\\/\\S+)|\"\"|^rt|http.+?|([0-9])\", \"\", x))\r\n",
        "    return df\r\n",
        "\r\n",
        "clean_tweets = clean_text(fichierTweet, 'Nom','Tweet')\r\n",
        "clean_tweets.head(20)"
      ],
      "execution_count": 22,
      "outputs": [
        {
          "output_type": "execute_result",
          "data": {
            "text/html": [
              "<div>\n",
              "<style scoped>\n",
              "    .dataframe tbody tr th:only-of-type {\n",
              "        vertical-align: middle;\n",
              "    }\n",
              "\n",
              "    .dataframe tbody tr th {\n",
              "        vertical-align: top;\n",
              "    }\n",
              "\n",
              "    .dataframe thead th {\n",
              "        text-align: right;\n",
              "    }\n",
              "</style>\n",
              "<table border=\"1\" class=\"dataframe\">\n",
              "  <thead>\n",
              "    <tr style=\"text-align: right;\">\n",
              "      <th></th>\n",
              "      <th>Id</th>\n",
              "      <th>Tweet</th>\n",
              "      <th>Nom</th>\n",
              "    </tr>\n",
              "  </thead>\n",
              "  <tbody>\n",
              "    <tr>\n",
              "      <th>0</th>\n",
              "      <td>1338849709876793344</td>\n",
              "      <td>rt  unironically love when people just lie lik...</td>\n",
              "      <td>basic pack</td>\n",
              "    </tr>\n",
              "    <tr>\n",
              "      <th>1</th>\n",
              "      <td>1338849709721587712</td>\n",
              "      <td>rt  anajai two words for these cops weight room</td>\n",
              "      <td>merry kaczynskist</td>\n",
              "    </tr>\n",
              "    <tr>\n",
              "      <th>2</th>\n",
              "      <td>1338849709188734976</td>\n",
              "      <td>rt ind so aap in delhi notified the new farm l...</td>\n",
              "      <td>sagar</td>\n",
              "    </tr>\n",
              "    <tr>\n",
              "      <th>3</th>\n",
              "      <td>1338849708614283267</td>\n",
              "      <td>and the community organizer  but we now hav...</td>\n",
              "      <td>abilityblind</td>\n",
              "    </tr>\n",
              "    <tr>\n",
              "      <th>4</th>\n",
              "      <td>1338849705661325312</td>\n",
              "      <td>politics  cucks</td>\n",
              "      <td>tom</td>\n",
              "    </tr>\n",
              "    <tr>\n",
              "      <th>5</th>\n",
              "      <td>1338849704877166593</td>\n",
              "      <td>rt  he departs as a disgrace he has shamed him...</td>\n",
              "      <td>bridget r</td>\n",
              "    </tr>\n",
              "    <tr>\n",
              "      <th>6</th>\n",
              "      <td>1338849704294055936</td>\n",
              "      <td>rt  not everyone can handle me i am that fire ...</td>\n",
              "      <td>archana rkvian girl</td>\n",
              "    </tr>\n",
              "    <tr>\n",
              "      <th>7</th>\n",
              "      <td>1338849703987855362</td>\n",
              "      <td>presidentelect joe biden declared monday dec 1...</td>\n",
              "      <td>pontafujii</td>\n",
              "    </tr>\n",
              "    <tr>\n",
              "      <th>8</th>\n",
              "      <td>1338849702092009472</td>\n",
              "      <td>religious  caste and gender discrimination an...</td>\n",
              "      <td>peacebub</td>\n",
              "    </tr>\n",
              "    <tr>\n",
              "      <th>9</th>\n",
              "      <td>1338849701756424193</td>\n",
              "      <td>rt  the electoral college has affirmed preside...</td>\n",
              "      <td>s jones</td>\n",
              "    </tr>\n",
              "    <tr>\n",
              "      <th>10</th>\n",
              "      <td>1338849701525905415</td>\n",
              "      <td>rt  joe biden passes threshold to win the elec...</td>\n",
              "      <td>v3nt</td>\n",
              "    </tr>\n",
              "    <tr>\n",
              "      <th>11</th>\n",
              "      <td>1338849700607385609</td>\n",
              "      <td>aaaargh so serious crimes and offences murder...</td>\n",
              "      <td>better zimbabwean</td>\n",
              "    </tr>\n",
              "    <tr>\n",
              "      <th>12</th>\n",
              "      <td>1338849699630096384</td>\n",
              "      <td>rt aschultz regarding some peoples reactions t...</td>\n",
              "      <td>gingervitis1</td>\n",
              "    </tr>\n",
              "    <tr>\n",
              "      <th>13</th>\n",
              "      <td>1338849697499320320</td>\n",
              "      <td>rt  john le carr on america no country was eve...</td>\n",
              "      <td>marc seddon</td>\n",
              "    </tr>\n",
              "    <tr>\n",
              "      <th>14</th>\n",
              "      <td>1338849693351243777</td>\n",
              "      <td>rt  pa state senate gop majority leader  says ...</td>\n",
              "      <td>respect all</td>\n",
              "    </tr>\n",
              "    <tr>\n",
              "      <th>15</th>\n",
              "      <td>1338849692956860418</td>\n",
              "      <td>rt  as i saw that amicus brief as well as the ...</td>\n",
              "      <td>sandra</td>\n",
              "    </tr>\n",
              "    <tr>\n",
              "      <th>16</th>\n",
              "      <td>1338849692654972929</td>\n",
              "      <td>rt  it says something when the gov of the day ...</td>\n",
              "      <td>theresa travis</td>\n",
              "    </tr>\n",
              "    <tr>\n",
              "      <th>17</th>\n",
              "      <td>1338849691358748674</td>\n",
              "      <td>rt mulroney 13 barton advised ottawa while his...</td>\n",
              "      <td>jonah jameson</td>\n",
              "    </tr>\n",
              "    <tr>\n",
              "      <th>18</th>\n",
              "      <td>1338849687663685636</td>\n",
              "      <td>imagine not wanting to be as strong as possible</td>\n",
              "      <td>merry kaczynskist</td>\n",
              "    </tr>\n",
              "    <tr>\n",
              "      <th>19</th>\n",
              "      <td>1338849687231721473</td>\n",
              "      <td>why kids should not be into politics</td>\n",
              "      <td>bdp</td>\n",
              "    </tr>\n",
              "  </tbody>\n",
              "</table>\n",
              "</div>"
            ],
            "text/plain": [
              "                     Id  ...                   Nom\n",
              "0   1338849709876793344  ...            basic pack\n",
              "1   1338849709721587712  ...     merry kaczynskist\n",
              "2   1338849709188734976  ...                 sagar\n",
              "3   1338849708614283267  ...          abilityblind\n",
              "4   1338849705661325312  ...                  tom \n",
              "5   1338849704877166593  ...             bridget r\n",
              "6   1338849704294055936  ...  archana rkvian girl \n",
              "7   1338849703987855362  ...            pontafujii\n",
              "8   1338849702092009472  ...              peacebub\n",
              "9   1338849701756424193  ...               s jones\n",
              "10  1338849701525905415  ...                  v3nt\n",
              "11  1338849700607385609  ...     better zimbabwean\n",
              "12  1338849699630096384  ...          gingervitis1\n",
              "13  1338849697499320320  ...           marc seddon\n",
              "14  1338849693351243777  ...           respect all\n",
              "15  1338849692956860418  ...                sandra\n",
              "16  1338849692654972929  ...        theresa travis\n",
              "17  1338849691358748674  ...         jonah jameson\n",
              "18  1338849687663685636  ...     merry kaczynskist\n",
              "19  1338849687231721473  ...                   bdp\n",
              "\n",
              "[20 rows x 3 columns]"
            ]
          },
          "metadata": {
            "tags": []
          },
          "execution_count": 22
        }
      ]
    },
    {
      "cell_type": "code",
      "metadata": {
        "id": "zgzWKSUW7Vt4"
      },
      "source": [
        "nlp = en_core_web_sm.load()\r\n",
        "tokenizer = RegexpTokenizer(r'\\w+')\r\n",
        "lemmatizer = WordNetLemmatizer()\r\n",
        "stop = set(stopwords.words('english'))\r\n",
        "punctuation = list(string.punctuation)\r\n",
        "stop.update(punctuation)\r\n",
        "w_tokenizer = WhitespaceTokenizer()\r\n",
        "\r\n",
        "# clean the set of words\r\n",
        "            \r\n",
        "def furnished(text):\r\n",
        "    final_text = []\r\n",
        "    for i in text.split():\r\n",
        "        if i.lower() not in stop:\r\n",
        "            word = lemmatizer.lemmatize(i)\r\n",
        "            final_text.append(word.lower())\r\n",
        "    return \" \".join(final_text)"
      ],
      "execution_count": 26,
      "outputs": []
    },
    {
      "cell_type": "code",
      "metadata": {
        "id": "Gf-fA6rp71rA"
      },
      "source": [
        "mots_Politics = ''' government diplomatic law political aristotle politics diplomatical governance republic public administration\r\n",
        "politician smooth suave state local government expedient sagacious police election political monarchy parliament dukes sovereign state\r\n",
        "polity regime democratic ethics communism federation anarchism authoritarianism populism bland aristocracy tribe power negotiation\r\n",
        "force warfare city clans tribes company country plato confucius latin kingship earls politically counts tribute lordship property inheritance\r\n",
        "confiscation individualist allegiance espionage conspiracy treason jewish gentile convention observance celibacy pope taxation petition legislation majority\r\n",
        "collegial permeates greek language flabby permeating communication commerce  governmental pervades permeated abstract straitjacket justice myopic\r\n",
        "discernment curfew consciences revenue pervading pervade matriarchal numbed juridical rightness unaccountable clannish civilised transfigured deliberative\r\n",
        "monopoly fatness paternalis mmonkish coin principle sinfulness perverted morass lawmaking'''"
      ],
      "execution_count": 27,
      "outputs": []
    },
    {
      "cell_type": "code",
      "metadata": {
        "id": "Si0ctUth-Ffs"
      },
      "source": [
        "mots_Sport = '''racing competition athletics spectator sport game gymnastics basketball team sportsman cycling fun skating tennis soccer leisure football \r\n",
        "athletic games baseball sportswoman position play disport lark boast mutation frolic skylark romp gambol mutant feature  rugby union \r\n",
        "frisk cavort rollick offside call referee champion skiing riding ski rowing netball diversion coach athlete hockey athletes\r\n",
        "entertainment olympic coaches polo outdoor sport team sport professional football business lead playing golftelevision chess\r\n",
        "running go sportsperson sports sportaccord competitive club race gym youth challenge teams track super pleasure class event exercise\r\n",
        "venue activity standards fitness son variation summercater tournament playoffs athleticism dexterity sumo line occupation wipeout\r\n",
        "flip pass toss recreation aquatics row archery sledding equitation shot stroke foul possession judo save tuck shooter timekeeper\r\n",
        "timer deficit average bout round turn surge seed curl start field shoot umpire drop down bandy submarine kick punt drive\r\n",
        "racket carry dribble cut box hike mountaineer rappel backpack pack skate skateboard sled sleigh bob bobsled luge toboggan\r\n",
        "scull canoe kayak paddle surf surfboard jackknife snorkel hurdle loose legal disqualified home away ineligible defending\r\n",
        "onside underarm underhand underhanded overhand upfield humor humour wit witticism jocularity clowning comedy draughts\r\n",
        "tradition goal funambulism birling logrollingoutclass double-team '''"
      ],
      "execution_count": 28,
      "outputs": []
    },
    {
      "cell_type": "code",
      "metadata": {
        "id": "iDnRgF9p-Jis"
      },
      "source": [
        "mots_culture  = '''\r\n",
        "society civilization philosophy anthropology subculture acculturation religion cultivation nationalism counterculture\r\n",
        "cultural ideology art popular folklore agriculture country writing music monoculture cyberculture language\r\n",
        "anthropology cooking literature science growth tillage grow ritual perfection development metaphor concept\r\n",
        "symbol mythology gender tradition archaeology clothing traditions traditional western culture contemporary\r\n",
        "multiculturalism elite politics ethnicity heritage sociology modernity spirituality marxism ethos nationality\r\n",
        "humanism romanticism finish polish refinement civilisation traditionalism genetics human learning interaction kinship heredity\r\n",
        "marriage dance technology shelter growing biology starter viticulture discernment content maturation appreciation ontogeny\r\n",
        "archeology attitude taste letters institutions humanities acculturate jewelry flawlessness perceptiveness ontogenesis\r\n",
        "viniculture meme modern capitalism clothes cultures social intellectual especially nature religious rooted\r\n",
        "context cicero societies popular history literary roots important geography historical\r\n",
        "folk particular origins phenomenon teleology ancient aspects perspective particularly rousseau architecture life inspired\r\n",
        "liberalism influence landscape flourishing urban circles everyday refers foremost ideas aesthetics thriving indigenous\r\n",
        "peoples such famous example known chinese describe nowadays community style knowledge unique prevalent describes environment classical\r\n",
        " today common originv interests great behavioral modernity most besides well beliefs importance emphasis kind understanding\r\n",
        "themes genre regarded '''"
      ],
      "execution_count": 29,
      "outputs": []
    },
    {
      "cell_type": "code",
      "metadata": {
        "id": "HKaikVLq-MZP"
      },
      "source": [
        "politique = furnished(mots_Politics)\r\n",
        "sport = furnished(mots_Sport)\r\n",
        "culture = furnished(mots_culture)"
      ],
      "execution_count": 30,
      "outputs": []
    },
    {
      "cell_type": "code",
      "metadata": {
        "id": "UjkkZQ16-P3z"
      },
      "source": [
        "##victoriser"
      ],
      "execution_count": 31,
      "outputs": []
    },
    {
      "cell_type": "code",
      "metadata": {
        "id": "7IUyIfMz-UQA"
      },
      "source": [
        "'''Vectoriser les ensembles de mots, puis les standardiser. TFIDF sera utilisé afin de prendre en charge le moins\r\n",
        "mots fréquents. La standardisation est parce que TFIDF favorise les phrases longues et il y aura des incohérences entre la longueur\r\n",
        "des tweets et de la longueur des mots.'''\r\n",
        "\r\n",
        "\r\n",
        "def get_vectors(*strs):\r\n",
        "    text = [t for t in strs]\r\n",
        "    vectorizer = TfidfVectorizer(text)\r\n",
        "    vectorizer.fit(text)\r\n",
        "    return vectorizer.transform(text).toarray()"
      ],
      "execution_count": 32,
      "outputs": []
    },
    {
      "cell_type": "code",
      "metadata": {
        "id": "2staQxuT-Wm2"
      },
      "source": [
        "vecteur_Politics = get_vectors(politique)\r\n",
        "vecteur_Politics = get_vectors(sport)\r\n",
        "vecteur_Politics = get_vectors(culture)"
      ],
      "execution_count": 33,
      "outputs": []
    },
    {
      "cell_type": "code",
      "metadata": {
        "colab": {
          "base_uri": "https://localhost:8080/"
        },
        "id": "9HW7-XbE-Yuo",
        "outputId": "c3f934aa-44e1-4a74-df4a-63f2dbb3dc38"
      },
      "source": [
        "vecteur_Politics"
      ],
      "execution_count": 34,
      "outputs": [
        {
          "output_type": "execute_result",
          "data": {
            "text/plain": [
              "array([[0.07352146, 0.07352146, 0.07352146, 0.07352146, 0.07352146,\n",
              "        0.14704292, 0.07352146, 0.07352146, 0.07352146, 0.07352146,\n",
              "        0.07352146, 0.07352146, 0.07352146, 0.07352146, 0.07352146,\n",
              "        0.07352146, 0.07352146, 0.07352146, 0.07352146, 0.07352146,\n",
              "        0.07352146, 0.07352146, 0.07352146, 0.07352146, 0.07352146,\n",
              "        0.07352146, 0.07352146, 0.07352146, 0.07352146, 0.07352146,\n",
              "        0.07352146, 0.07352146, 0.07352146, 0.07352146, 0.07352146,\n",
              "        0.07352146, 0.07352146, 0.14704292, 0.07352146, 0.07352146,\n",
              "        0.07352146, 0.07352146, 0.07352146, 0.07352146, 0.07352146,\n",
              "        0.07352146, 0.07352146, 0.07352146, 0.07352146, 0.07352146,\n",
              "        0.07352146, 0.07352146, 0.07352146, 0.07352146, 0.07352146,\n",
              "        0.07352146, 0.07352146, 0.07352146, 0.07352146, 0.07352146,\n",
              "        0.07352146, 0.07352146, 0.07352146, 0.07352146, 0.07352146,\n",
              "        0.07352146, 0.07352146, 0.07352146, 0.07352146, 0.07352146,\n",
              "        0.07352146, 0.07352146, 0.07352146, 0.07352146, 0.07352146,\n",
              "        0.07352146, 0.07352146, 0.07352146, 0.07352146, 0.07352146,\n",
              "        0.07352146, 0.07352146, 0.07352146, 0.07352146, 0.07352146,\n",
              "        0.07352146, 0.07352146, 0.07352146, 0.07352146, 0.07352146,\n",
              "        0.07352146, 0.07352146, 0.07352146, 0.07352146, 0.07352146,\n",
              "        0.07352146, 0.07352146, 0.07352146, 0.07352146, 0.07352146,\n",
              "        0.07352146, 0.07352146, 0.07352146, 0.07352146, 0.14704292,\n",
              "        0.07352146, 0.07352146, 0.07352146, 0.07352146, 0.07352146,\n",
              "        0.07352146, 0.07352146, 0.07352146, 0.07352146, 0.07352146,\n",
              "        0.07352146, 0.07352146, 0.07352146, 0.07352146, 0.07352146,\n",
              "        0.07352146, 0.07352146, 0.07352146, 0.07352146, 0.07352146,\n",
              "        0.07352146, 0.07352146, 0.14704292, 0.07352146, 0.07352146,\n",
              "        0.07352146, 0.07352146, 0.07352146, 0.07352146, 0.07352146,\n",
              "        0.07352146, 0.07352146, 0.07352146, 0.07352146, 0.07352146,\n",
              "        0.07352146, 0.07352146, 0.14704292, 0.07352146, 0.07352146,\n",
              "        0.07352146, 0.07352146, 0.07352146, 0.07352146, 0.07352146,\n",
              "        0.07352146, 0.07352146, 0.07352146, 0.07352146, 0.07352146,\n",
              "        0.07352146, 0.14704292, 0.07352146, 0.07352146, 0.07352146,\n",
              "        0.07352146, 0.07352146, 0.07352146, 0.07352146, 0.07352146,\n",
              "        0.07352146, 0.07352146]])"
            ]
          },
          "metadata": {
            "tags": []
          },
          "execution_count": 34
        }
      ]
    },
    {
      "cell_type": "code",
      "metadata": {
        "id": "UnwRjrEW-ayj"
      },
      "source": [
        "from scipy import stats\r\n",
        "## Vectorizing the tweets\r\n",
        "tv=TfidfVectorizer()\r\n",
        "# tweets_bowl = tweets_bowl.tweets.apply(get_vectors)\r\n",
        "# tweets_bowl.head()\r\n",
        "tfidf_tweets =tv.fit_transform(fichierTweet.Tweet)\r\n",
        "tfidf_tweets =tv.fit_transform(fichierTweet.Nom)"
      ],
      "execution_count": 35,
      "outputs": []
    },
    {
      "cell_type": "code",
      "metadata": {
        "id": "E0skVlJL-dWO"
      },
      "source": [
        "'''La similitude Jaccard est bonne pour les cas où la duplication n'a pas d'importance,\r\n",
        "La similitude cosinus est bonne pour les cas où la duplication est importante lors de l'analyse de la similitude du texte. Pour deux descriptions de produits,\r\n",
        "il vaudra mieux utiliser la similitude de Jaccard car la répétition d'un mot ne réduit pas leur similitude.'''\r\n",
        "\r\n",
        "def jaccard_similarity(query, document):\r\n",
        "    intersection = set(query).intersection(set(document))\r\n",
        "    union = set(query).union(set(document))\r\n",
        "    return len(intersection)/len(union)\r\n",
        "# jaccard_score(socialvector, economic_vector)\r\n",
        "\r\n",
        "#for similarity of 1 and 2 of column1\r\n",
        "# jaccard_similarity('dog lion a dog','dog is cat')\r\n",
        "\r\n",
        "\r\n",
        "def get_scores(group,tweets):\r\n",
        "    scores = []\r\n",
        "    for tweet in tweets:\r\n",
        "        s = jaccard_similarity(group, tweet)\r\n",
        "        scores.append(s)\r\n",
        "    return scores"
      ],
      "execution_count": 36,
      "outputs": []
    },
    {
      "cell_type": "code",
      "metadata": {
        "colab": {
          "base_uri": "https://localhost:8080/"
        },
        "id": "9fZIhhb4-hGw",
        "outputId": "f0a95e69-c636-40a5-d1be-6359160b1799"
      },
      "source": [
        "Score_Politics = get_scores(politique,fichierTweet.Tweet.to_list())\r\n",
        "Score_Politics[-15:]"
      ],
      "execution_count": 37,
      "outputs": [
        {
          "output_type": "execute_result",
          "data": {
            "text/plain": [
              "[0.6,\n",
              " 0.5357142857142857,\n",
              " 0.96,\n",
              " 0.96,\n",
              " 0.96,\n",
              " 0.8076923076923077,\n",
              " 0.7307692307692307,\n",
              " 0.8148148148148148,\n",
              " 0.96,\n",
              " 0.75,\n",
              " 0.96,\n",
              " 0.84,\n",
              " 0.88,\n",
              " 0.6923076923076923,\n",
              " 0.7142857142857143]"
            ]
          },
          "metadata": {
            "tags": []
          },
          "execution_count": 37
        }
      ]
    },
    {
      "cell_type": "code",
      "metadata": {
        "colab": {
          "base_uri": "https://localhost:8080/"
        },
        "id": "TyPjIHlW-jGt",
        "outputId": "fd61962f-08fa-4263-a44f-a7435ded564b"
      },
      "source": [
        "Score_Sport = get_scores(sport,fichierTweet.Tweet.to_list())\r\n",
        "Score_Sport[-15:]"
      ],
      "execution_count": 38,
      "outputs": [
        {
          "output_type": "execute_result",
          "data": {
            "text/plain": [
              "[0.5555555555555556,\n",
              " 0.5,\n",
              " 0.8888888888888888,\n",
              " 0.8888888888888888,\n",
              " 0.8888888888888888,\n",
              " 0.75,\n",
              " 0.6785714285714286,\n",
              " 0.7586206896551724,\n",
              " 0.8888888888888888,\n",
              " 0.7,\n",
              " 0.8888888888888888,\n",
              " 0.7777777777777778,\n",
              " 0.8148148148148148,\n",
              " 0.6428571428571429,\n",
              " 0.6666666666666666]"
            ]
          },
          "metadata": {
            "tags": []
          },
          "execution_count": 38
        }
      ]
    },
    {
      "cell_type": "code",
      "metadata": {
        "colab": {
          "base_uri": "https://localhost:8080/"
        },
        "id": "nU6kRXxy-lvA",
        "outputId": "107467bb-4a4e-4685-a688-2c3fd574ec33"
      },
      "source": [
        "Score_Culture = get_scores(culture,fichierTweet.Tweet.to_list())\r\n",
        "Score_Culture[-15:]"
      ],
      "execution_count": 39,
      "outputs": [
        {
          "output_type": "execute_result",
          "data": {
            "text/plain": [
              "[0.5555555555555556,\n",
              " 0.5,\n",
              " 0.8888888888888888,\n",
              " 0.8888888888888888,\n",
              " 0.8888888888888888,\n",
              " 0.75,\n",
              " 0.6785714285714286,\n",
              " 0.7586206896551724,\n",
              " 0.8888888888888888,\n",
              " 0.7,\n",
              " 0.8888888888888888,\n",
              " 0.7777777777777778,\n",
              " 0.8148148148148148,\n",
              " 0.7037037037037037,\n",
              " 0.6666666666666666]"
            ]
          },
          "metadata": {
            "tags": []
          },
          "execution_count": 39
        }
      ]
    },
    {
      "cell_type": "code",
      "metadata": {
        "id": "ScBiwqvq-n6C"
      },
      "source": [
        "Nom_List=fichierTweet.Nom.to_list()"
      ],
      "execution_count": 40,
      "outputs": []
    },
    {
      "cell_type": "code",
      "metadata": {
        "colab": {
          "base_uri": "https://localhost:8080/",
          "height": 669
        },
        "id": "zHl03wKI-psJ",
        "outputId": "e5ad94f6-8c6a-42f3-d07d-f5a2312b78bc"
      },
      "source": [
        "''''nouveau df avec les noms et les scores jaccard pour chaque groupe'''\r\n",
        "\r\n",
        "data  = {'nom':Nom_List,'politique': Score_Politics, 'sport': Score_Sport, 'culture':Score_Culture}\r\n",
        "scores_df = pd.DataFrame(data)\r\n",
        "scores_df.head(20)"
      ],
      "execution_count": 41,
      "outputs": [
        {
          "output_type": "execute_result",
          "data": {
            "text/html": [
              "<div>\n",
              "<style scoped>\n",
              "    .dataframe tbody tr th:only-of-type {\n",
              "        vertical-align: middle;\n",
              "    }\n",
              "\n",
              "    .dataframe tbody tr th {\n",
              "        vertical-align: top;\n",
              "    }\n",
              "\n",
              "    .dataframe thead th {\n",
              "        text-align: right;\n",
              "    }\n",
              "</style>\n",
              "<table border=\"1\" class=\"dataframe\">\n",
              "  <thead>\n",
              "    <tr style=\"text-align: right;\">\n",
              "      <th></th>\n",
              "      <th>nom</th>\n",
              "      <th>politique</th>\n",
              "      <th>sport</th>\n",
              "      <th>culture</th>\n",
              "    </tr>\n",
              "  </thead>\n",
              "  <tbody>\n",
              "    <tr>\n",
              "      <th>0</th>\n",
              "      <td>basic pack</td>\n",
              "      <td>0.880000</td>\n",
              "      <td>0.814815</td>\n",
              "      <td>0.814815</td>\n",
              "    </tr>\n",
              "    <tr>\n",
              "      <th>1</th>\n",
              "      <td>merry kaczynskist</td>\n",
              "      <td>0.720000</td>\n",
              "      <td>0.666667</td>\n",
              "      <td>0.666667</td>\n",
              "    </tr>\n",
              "    <tr>\n",
              "      <th>2</th>\n",
              "      <td>sagar</td>\n",
              "      <td>0.758621</td>\n",
              "      <td>0.709677</td>\n",
              "      <td>0.709677</td>\n",
              "    </tr>\n",
              "    <tr>\n",
              "      <th>3</th>\n",
              "      <td>abilityblind</td>\n",
              "      <td>0.807692</td>\n",
              "      <td>0.750000</td>\n",
              "      <td>0.814815</td>\n",
              "    </tr>\n",
              "    <tr>\n",
              "      <th>4</th>\n",
              "      <td>tom</td>\n",
              "      <td>0.400000</td>\n",
              "      <td>0.370370</td>\n",
              "      <td>0.370370</td>\n",
              "    </tr>\n",
              "    <tr>\n",
              "      <th>5</th>\n",
              "      <td>bridget r</td>\n",
              "      <td>0.760000</td>\n",
              "      <td>0.703704</td>\n",
              "      <td>0.703704</td>\n",
              "    </tr>\n",
              "    <tr>\n",
              "      <th>6</th>\n",
              "      <td>archana rkvian girl</td>\n",
              "      <td>0.920000</td>\n",
              "      <td>0.851852</td>\n",
              "      <td>0.851852</td>\n",
              "    </tr>\n",
              "    <tr>\n",
              "      <th>7</th>\n",
              "      <td>pontafujii</td>\n",
              "      <td>0.814815</td>\n",
              "      <td>0.758621</td>\n",
              "      <td>0.758621</td>\n",
              "    </tr>\n",
              "    <tr>\n",
              "      <th>8</th>\n",
              "      <td>peacebub</td>\n",
              "      <td>0.800000</td>\n",
              "      <td>0.740741</td>\n",
              "      <td>0.740741</td>\n",
              "    </tr>\n",
              "    <tr>\n",
              "      <th>9</th>\n",
              "      <td>s jones</td>\n",
              "      <td>0.920000</td>\n",
              "      <td>0.851852</td>\n",
              "      <td>0.851852</td>\n",
              "    </tr>\n",
              "    <tr>\n",
              "      <th>10</th>\n",
              "      <td>v3nt</td>\n",
              "      <td>0.840000</td>\n",
              "      <td>0.777778</td>\n",
              "      <td>0.777778</td>\n",
              "    </tr>\n",
              "    <tr>\n",
              "      <th>11</th>\n",
              "      <td>better zimbabwean</td>\n",
              "      <td>0.769231</td>\n",
              "      <td>0.714286</td>\n",
              "      <td>0.777778</td>\n",
              "    </tr>\n",
              "    <tr>\n",
              "      <th>12</th>\n",
              "      <td>gingervitis1</td>\n",
              "      <td>0.769231</td>\n",
              "      <td>0.714286</td>\n",
              "      <td>0.777778</td>\n",
              "    </tr>\n",
              "    <tr>\n",
              "      <th>13</th>\n",
              "      <td>marc seddon</td>\n",
              "      <td>0.807692</td>\n",
              "      <td>0.814815</td>\n",
              "      <td>0.814815</td>\n",
              "    </tr>\n",
              "    <tr>\n",
              "      <th>14</th>\n",
              "      <td>respect all</td>\n",
              "      <td>0.840000</td>\n",
              "      <td>0.777778</td>\n",
              "      <td>0.777778</td>\n",
              "    </tr>\n",
              "    <tr>\n",
              "      <th>15</th>\n",
              "      <td>sandra</td>\n",
              "      <td>0.800000</td>\n",
              "      <td>0.740741</td>\n",
              "      <td>0.740741</td>\n",
              "    </tr>\n",
              "    <tr>\n",
              "      <th>16</th>\n",
              "      <td>theresa travis</td>\n",
              "      <td>0.800000</td>\n",
              "      <td>0.740741</td>\n",
              "      <td>0.740741</td>\n",
              "    </tr>\n",
              "    <tr>\n",
              "      <th>17</th>\n",
              "      <td>jonah jameson</td>\n",
              "      <td>0.888889</td>\n",
              "      <td>0.827586</td>\n",
              "      <td>0.827586</td>\n",
              "    </tr>\n",
              "    <tr>\n",
              "      <th>18</th>\n",
              "      <td>merry kaczynskist</td>\n",
              "      <td>0.600000</td>\n",
              "      <td>0.555556</td>\n",
              "      <td>0.555556</td>\n",
              "    </tr>\n",
              "    <tr>\n",
              "      <th>19</th>\n",
              "      <td>bdp</td>\n",
              "      <td>0.680000</td>\n",
              "      <td>0.629630</td>\n",
              "      <td>0.629630</td>\n",
              "    </tr>\n",
              "  </tbody>\n",
              "</table>\n",
              "</div>"
            ],
            "text/plain": [
              "                     nom  politique     sport   culture\n",
              "0             basic pack   0.880000  0.814815  0.814815\n",
              "1      merry kaczynskist   0.720000  0.666667  0.666667\n",
              "2                  sagar   0.758621  0.709677  0.709677\n",
              "3           abilityblind   0.807692  0.750000  0.814815\n",
              "4                   tom    0.400000  0.370370  0.370370\n",
              "5              bridget r   0.760000  0.703704  0.703704\n",
              "6   archana rkvian girl    0.920000  0.851852  0.851852\n",
              "7             pontafujii   0.814815  0.758621  0.758621\n",
              "8               peacebub   0.800000  0.740741  0.740741\n",
              "9                s jones   0.920000  0.851852  0.851852\n",
              "10                  v3nt   0.840000  0.777778  0.777778\n",
              "11     better zimbabwean   0.769231  0.714286  0.777778\n",
              "12          gingervitis1   0.769231  0.714286  0.777778\n",
              "13           marc seddon   0.807692  0.814815  0.814815\n",
              "14           respect all   0.840000  0.777778  0.777778\n",
              "15                sandra   0.800000  0.740741  0.740741\n",
              "16        theresa travis   0.800000  0.740741  0.740741\n",
              "17         jonah jameson   0.888889  0.827586  0.827586\n",
              "18     merry kaczynskist   0.600000  0.555556  0.555556\n",
              "19                   bdp   0.680000  0.629630  0.629630"
            ]
          },
          "metadata": {
            "tags": []
          },
          "execution_count": 41
        }
      ]
    },
    {
      "cell_type": "code",
      "metadata": {
        "id": "KIbjmJTD-rpe"
      },
      "source": [
        "'''Actual assigning of classes to the tweets'''\r\n",
        "\r\n",
        "def get_clusters(l1, l2, l3):\r\n",
        "    pol = []\r\n",
        "    sp = []\r\n",
        "    cul = []\r\n",
        "    for i, j, k in zip(l1, l2, l3):\r\n",
        "        m = max(i, j, k)\r\n",
        "        if m == i:\r\n",
        "            pol.append(1)\r\n",
        "        else:\r\n",
        "            pol.append(0)\r\n",
        "        if m == j:\r\n",
        "            sp.append(1)\r\n",
        "        else:\r\n",
        "            sp.append(0)        \r\n",
        "        if m == k:\r\n",
        "            cul.append(1)\r\n",
        "        else:\r\n",
        "            cul.append(0)              \r\n",
        "    return pol, sp, cul,"
      ],
      "execution_count": 42,
      "outputs": []
    },
    {
      "cell_type": "code",
      "metadata": {
        "id": "jrSK5iP3-u6t"
      },
      "source": [
        "l1 = scores_df.politique.to_list()\r\n",
        "l2 = scores_df.sport.to_list()\r\n",
        "l3 = scores_df.culture.to_list()\r\n",
        "\r\n",
        "pol, sp, cul = get_clusters(l1, l2, l3)"
      ],
      "execution_count": 43,
      "outputs": []
    },
    {
      "cell_type": "code",
      "metadata": {
        "colab": {
          "base_uri": "https://localhost:8080/",
          "height": 669
        },
        "id": "F6j3bVVK-xft",
        "outputId": "e5fe993f-a0be-4355-c703-46787dd29222"
      },
      "source": [
        "data = {'nom': Nom_List, 'politique':pol, 'sport':sp, 'culture':cul}\r\n",
        "cluster_df = pd.DataFrame(data)\r\n",
        "cluster_df.head(20)"
      ],
      "execution_count": 44,
      "outputs": [
        {
          "output_type": "execute_result",
          "data": {
            "text/html": [
              "<div>\n",
              "<style scoped>\n",
              "    .dataframe tbody tr th:only-of-type {\n",
              "        vertical-align: middle;\n",
              "    }\n",
              "\n",
              "    .dataframe tbody tr th {\n",
              "        vertical-align: top;\n",
              "    }\n",
              "\n",
              "    .dataframe thead th {\n",
              "        text-align: right;\n",
              "    }\n",
              "</style>\n",
              "<table border=\"1\" class=\"dataframe\">\n",
              "  <thead>\n",
              "    <tr style=\"text-align: right;\">\n",
              "      <th></th>\n",
              "      <th>nom</th>\n",
              "      <th>politique</th>\n",
              "      <th>sport</th>\n",
              "      <th>culture</th>\n",
              "    </tr>\n",
              "  </thead>\n",
              "  <tbody>\n",
              "    <tr>\n",
              "      <th>0</th>\n",
              "      <td>basic pack</td>\n",
              "      <td>1</td>\n",
              "      <td>0</td>\n",
              "      <td>0</td>\n",
              "    </tr>\n",
              "    <tr>\n",
              "      <th>1</th>\n",
              "      <td>merry kaczynskist</td>\n",
              "      <td>1</td>\n",
              "      <td>0</td>\n",
              "      <td>0</td>\n",
              "    </tr>\n",
              "    <tr>\n",
              "      <th>2</th>\n",
              "      <td>sagar</td>\n",
              "      <td>1</td>\n",
              "      <td>0</td>\n",
              "      <td>0</td>\n",
              "    </tr>\n",
              "    <tr>\n",
              "      <th>3</th>\n",
              "      <td>abilityblind</td>\n",
              "      <td>0</td>\n",
              "      <td>0</td>\n",
              "      <td>1</td>\n",
              "    </tr>\n",
              "    <tr>\n",
              "      <th>4</th>\n",
              "      <td>tom</td>\n",
              "      <td>1</td>\n",
              "      <td>0</td>\n",
              "      <td>0</td>\n",
              "    </tr>\n",
              "    <tr>\n",
              "      <th>5</th>\n",
              "      <td>bridget r</td>\n",
              "      <td>1</td>\n",
              "      <td>0</td>\n",
              "      <td>0</td>\n",
              "    </tr>\n",
              "    <tr>\n",
              "      <th>6</th>\n",
              "      <td>archana rkvian girl</td>\n",
              "      <td>1</td>\n",
              "      <td>0</td>\n",
              "      <td>0</td>\n",
              "    </tr>\n",
              "    <tr>\n",
              "      <th>7</th>\n",
              "      <td>pontafujii</td>\n",
              "      <td>1</td>\n",
              "      <td>0</td>\n",
              "      <td>0</td>\n",
              "    </tr>\n",
              "    <tr>\n",
              "      <th>8</th>\n",
              "      <td>peacebub</td>\n",
              "      <td>1</td>\n",
              "      <td>0</td>\n",
              "      <td>0</td>\n",
              "    </tr>\n",
              "    <tr>\n",
              "      <th>9</th>\n",
              "      <td>s jones</td>\n",
              "      <td>1</td>\n",
              "      <td>0</td>\n",
              "      <td>0</td>\n",
              "    </tr>\n",
              "    <tr>\n",
              "      <th>10</th>\n",
              "      <td>v3nt</td>\n",
              "      <td>1</td>\n",
              "      <td>0</td>\n",
              "      <td>0</td>\n",
              "    </tr>\n",
              "    <tr>\n",
              "      <th>11</th>\n",
              "      <td>better zimbabwean</td>\n",
              "      <td>0</td>\n",
              "      <td>0</td>\n",
              "      <td>1</td>\n",
              "    </tr>\n",
              "    <tr>\n",
              "      <th>12</th>\n",
              "      <td>gingervitis1</td>\n",
              "      <td>0</td>\n",
              "      <td>0</td>\n",
              "      <td>1</td>\n",
              "    </tr>\n",
              "    <tr>\n",
              "      <th>13</th>\n",
              "      <td>marc seddon</td>\n",
              "      <td>0</td>\n",
              "      <td>1</td>\n",
              "      <td>1</td>\n",
              "    </tr>\n",
              "    <tr>\n",
              "      <th>14</th>\n",
              "      <td>respect all</td>\n",
              "      <td>1</td>\n",
              "      <td>0</td>\n",
              "      <td>0</td>\n",
              "    </tr>\n",
              "    <tr>\n",
              "      <th>15</th>\n",
              "      <td>sandra</td>\n",
              "      <td>1</td>\n",
              "      <td>0</td>\n",
              "      <td>0</td>\n",
              "    </tr>\n",
              "    <tr>\n",
              "      <th>16</th>\n",
              "      <td>theresa travis</td>\n",
              "      <td>1</td>\n",
              "      <td>0</td>\n",
              "      <td>0</td>\n",
              "    </tr>\n",
              "    <tr>\n",
              "      <th>17</th>\n",
              "      <td>jonah jameson</td>\n",
              "      <td>1</td>\n",
              "      <td>0</td>\n",
              "      <td>0</td>\n",
              "    </tr>\n",
              "    <tr>\n",
              "      <th>18</th>\n",
              "      <td>merry kaczynskist</td>\n",
              "      <td>1</td>\n",
              "      <td>0</td>\n",
              "      <td>0</td>\n",
              "    </tr>\n",
              "    <tr>\n",
              "      <th>19</th>\n",
              "      <td>bdp</td>\n",
              "      <td>1</td>\n",
              "      <td>0</td>\n",
              "      <td>0</td>\n",
              "    </tr>\n",
              "  </tbody>\n",
              "</table>\n",
              "</div>"
            ],
            "text/plain": [
              "                     nom  politique  sport  culture\n",
              "0             basic pack          1      0        0\n",
              "1      merry kaczynskist          1      0        0\n",
              "2                  sagar          1      0        0\n",
              "3           abilityblind          0      0        1\n",
              "4                   tom           1      0        0\n",
              "5              bridget r          1      0        0\n",
              "6   archana rkvian girl           1      0        0\n",
              "7             pontafujii          1      0        0\n",
              "8               peacebub          1      0        0\n",
              "9                s jones          1      0        0\n",
              "10                  v3nt          1      0        0\n",
              "11     better zimbabwean          0      0        1\n",
              "12          gingervitis1          0      0        1\n",
              "13           marc seddon          0      1        1\n",
              "14           respect all          1      0        0\n",
              "15                sandra          1      0        0\n",
              "16        theresa travis          1      0        0\n",
              "17         jonah jameson          1      0        0\n",
              "18     merry kaczynskist          1      0        0\n",
              "19                   bdp          1      0        0"
            ]
          },
          "metadata": {
            "tags": []
          },
          "execution_count": 44
        }
      ]
    },
    {
      "cell_type": "code",
      "metadata": {
        "id": "0odwYQbX-zUp"
      },
      "source": [
        "'''En raison de la similitude étroite entre les tweets économiques, sociaux et sanitaires, certains tweets ont plusieurs catégories,\r\n",
        "donc pour faire attention que les lignes avec une somme> 1 devront partager les catégories. Après cela, le clustering prendra soin\r\n",
        "des fractions '''\r\n",
        "\r\n",
        "\r\n",
        "a =  cluster_df[['politique', 'sport', 'culture']].sum(axis = 1) > 1\r\n",
        "c = cluster_df[['politique', 'sport', 'culture']].sum(axis = 1)\r\n",
        "cluster_df.loc[(a), ['politique', 'sport', 'culture']] = 1/c"
      ],
      "execution_count": 45,
      "outputs": []
    },
    {
      "cell_type": "code",
      "metadata": {
        "colab": {
          "base_uri": "https://localhost:8080/"
        },
        "id": "2OUsImkn-2IP",
        "outputId": "d61bf2b6-2d23-4c2b-89bc-82a82607bbc4"
      },
      "source": [
        "cluster_df.shape"
      ],
      "execution_count": 46,
      "outputs": [
        {
          "output_type": "execute_result",
          "data": {
            "text/plain": [
              "(10000, 4)"
            ]
          },
          "metadata": {
            "tags": []
          },
          "execution_count": 46
        }
      ]
    },
    {
      "cell_type": "code",
      "metadata": {
        "id": "9My9MenY-4P5"
      },
      "source": [
        "#  Clustered DF"
      ],
      "execution_count": 47,
      "outputs": []
    },
    {
      "cell_type": "code",
      "metadata": {
        "colab": {
          "base_uri": "https://localhost:8080/",
          "height": 252
        },
        "id": "GK6otzCp-772",
        "outputId": "41ac70da-91ff-4808-d339-7fddee08b745"
      },
      "source": [
        "pivot_clusters = cluster_df.groupby(['nom']).sum()\r\n",
        "pivot_clusters['politique'] = pivot_clusters['politique'].astype(int)\r\n",
        "pivot_clusters['sport'] = pivot_clusters['sport'].astype(int)\r\n",
        "pivot_clusters['culture'] = pivot_clusters['culture'].astype(int)\r\n",
        "pivot_clusters['total'] = pivot_clusters['politique'] + pivot_clusters['sport'] + pivot_clusters['culture']\r\n",
        "pivot_clusters.loc[\"Total\"] = pivot_clusters.sum()  #add a totals row\r\n",
        "print(pivot_clusters.shape)\r\n",
        "pivot_clusters.tail()"
      ],
      "execution_count": 48,
      "outputs": [
        {
          "output_type": "stream",
          "text": [
            "(8276, 4)\n"
          ],
          "name": "stdout"
        },
        {
          "output_type": "execute_result",
          "data": {
            "text/html": [
              "<div>\n",
              "<style scoped>\n",
              "    .dataframe tbody tr th:only-of-type {\n",
              "        vertical-align: middle;\n",
              "    }\n",
              "\n",
              "    .dataframe tbody tr th {\n",
              "        vertical-align: top;\n",
              "    }\n",
              "\n",
              "    .dataframe thead th {\n",
              "        text-align: right;\n",
              "    }\n",
              "</style>\n",
              "<table border=\"1\" class=\"dataframe\">\n",
              "  <thead>\n",
              "    <tr style=\"text-align: right;\">\n",
              "      <th></th>\n",
              "      <th>politique</th>\n",
              "      <th>sport</th>\n",
              "      <th>culture</th>\n",
              "      <th>total</th>\n",
              "    </tr>\n",
              "    <tr>\n",
              "      <th>nom</th>\n",
              "      <th></th>\n",
              "      <th></th>\n",
              "      <th></th>\n",
              "      <th></th>\n",
              "    </tr>\n",
              "  </thead>\n",
              "  <tbody>\n",
              "    <tr>\n",
              "      <th>zorka kelly</th>\n",
              "      <td>1</td>\n",
              "      <td>0</td>\n",
              "      <td>0</td>\n",
              "      <td>1</td>\n",
              "    </tr>\n",
              "    <tr>\n",
              "      <th>zote63</th>\n",
              "      <td>1</td>\n",
              "      <td>0</td>\n",
              "      <td>0</td>\n",
              "      <td>1</td>\n",
              "    </tr>\n",
              "    <tr>\n",
              "      <th>zufan wolde</th>\n",
              "      <td>1</td>\n",
              "      <td>0</td>\n",
              "      <td>0</td>\n",
              "      <td>1</td>\n",
              "    </tr>\n",
              "    <tr>\n",
              "      <th>zugly747</th>\n",
              "      <td>1</td>\n",
              "      <td>0</td>\n",
              "      <td>0</td>\n",
              "      <td>1</td>\n",
              "    </tr>\n",
              "    <tr>\n",
              "      <th>Total</th>\n",
              "      <td>8948</td>\n",
              "      <td>19</td>\n",
              "      <td>639</td>\n",
              "      <td>9606</td>\n",
              "    </tr>\n",
              "  </tbody>\n",
              "</table>\n",
              "</div>"
            ],
            "text/plain": [
              "             politique  sport  culture  total\n",
              "nom                                          \n",
              "zorka kelly          1      0        0      1\n",
              "zote63               1      0        0      1\n",
              "zufan wolde          1      0        0      1\n",
              "zugly747             1      0        0      1\n",
              "Total             8948     19      639   9606"
            ]
          },
          "metadata": {
            "tags": []
          },
          "execution_count": 48
        }
      ]
    },
    {
      "cell_type": "code",
      "metadata": {
        "id": "cNnYtWE1--9H"
      },
      "source": [
        ""
      ],
      "execution_count": null,
      "outputs": []
    }
  ]
}